{
 "cells": [
  {
   "cell_type": "markdown",
   "id": "f1194af5",
   "metadata": {},
   "source": [
    "# A Markdown cell\n",
    "- You can do all the fun stuff markdown has to offer"
   ]
  },
  {
   "cell_type": "markdown",
   "id": "20e54c79",
   "metadata": {
    "lines_to_next_cell": 2
   },
   "source": [
    "## Another Markdown cell"
   ]
  },
  {
   "cell_type": "code",
   "execution_count": 1,
   "id": "2ca567b2",
   "metadata": {
    "execution": {
     "iopub.execute_input": "2022-07-20T21:01:54.569793Z",
     "iopub.status.busy": "2022-07-20T21:01:54.569412Z",
     "iopub.status.idle": "2022-07-20T21:01:54.578400Z",
     "shell.execute_reply": "2022-07-20T21:01:54.577412Z"
    },
    "lines_to_next_cell": 0
   },
   "outputs": [],
   "source": [
    "# This is a code cell\n",
    "class A():\n",
    "    def one():\n",
    "        return 1\n",
    "\n",
    "    def two():\n",
    "        return 2"
   ]
  },
  {
   "cell_type": "code",
   "execution_count": null,
   "id": "7e30be7c",
   "metadata": {
    "lines_to_next_cell": 0
   },
   "outputs": [],
   "source": []
  },
  {
   "cell_type": "code",
   "execution_count": 2,
   "id": "8d6a8248",
   "metadata": {
    "execution": {
     "iopub.execute_input": "2022-07-20T21:01:54.582063Z",
     "iopub.status.busy": "2022-07-20T21:01:54.581767Z",
     "iopub.status.idle": "2022-07-20T21:01:59.984570Z",
     "shell.execute_reply": "2022-07-20T21:01:59.983926Z"
    }
   },
   "outputs": [
    {
     "name": "stdout",
     "output_type": "stream",
     "text": [
      "this is my list [0 1 2 3 4 5 6 7 8 9]\n"
     ]
    }
   ],
   "source": [
    "# This is another code cell\n",
    "import numpy as np\n",
    "\n",
    "mylist = np.arange(0,10)\n",
    "print(f\"this is my list {mylist}\")"
   ]
  }
 ],
 "metadata": {
  "jupytext": {
   "cell_metadata_filter": "-all",
   "main_language": "python",
   "notebook_metadata_filter": "-all"
  },
  "language_info": {
   "codemirror_mode": {
    "name": "ipython",
    "version": 3
   },
   "file_extension": ".py",
   "mimetype": "text/x-python",
   "name": "python",
   "nbconvert_exporter": "python",
   "pygments_lexer": "ipython3",
   "version": "3.9.13"
  }
 },
 "nbformat": 4,
 "nbformat_minor": 5
}
